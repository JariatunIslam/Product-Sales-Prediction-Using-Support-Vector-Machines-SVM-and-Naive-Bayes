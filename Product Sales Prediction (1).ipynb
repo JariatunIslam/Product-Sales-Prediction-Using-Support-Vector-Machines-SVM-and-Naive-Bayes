{
 "cells": [
  {
   "cell_type": "code",
   "execution_count": 1,
   "id": "3a847cfb",
   "metadata": {},
   "outputs": [
    {
     "data": {
      "text/html": [
       "<div>\n",
       "<style scoped>\n",
       "    .dataframe tbody tr th:only-of-type {\n",
       "        vertical-align: middle;\n",
       "    }\n",
       "\n",
       "    .dataframe tbody tr th {\n",
       "        vertical-align: top;\n",
       "    }\n",
       "\n",
       "    .dataframe thead th {\n",
       "        text-align: right;\n",
       "    }\n",
       "</style>\n",
       "<table border=\"1\" class=\"dataframe\">\n",
       "  <thead>\n",
       "    <tr style=\"text-align: right;\">\n",
       "      <th></th>\n",
       "      <th>User ID</th>\n",
       "      <th>Gender</th>\n",
       "      <th>Age</th>\n",
       "      <th>EstimatedSalary</th>\n",
       "      <th>Purchased</th>\n",
       "    </tr>\n",
       "  </thead>\n",
       "  <tbody>\n",
       "    <tr>\n",
       "      <th>0</th>\n",
       "      <td>15624510</td>\n",
       "      <td>Male</td>\n",
       "      <td>19</td>\n",
       "      <td>19000</td>\n",
       "      <td>0</td>\n",
       "    </tr>\n",
       "    <tr>\n",
       "      <th>1</th>\n",
       "      <td>15810944</td>\n",
       "      <td>Male</td>\n",
       "      <td>35</td>\n",
       "      <td>20000</td>\n",
       "      <td>0</td>\n",
       "    </tr>\n",
       "    <tr>\n",
       "      <th>2</th>\n",
       "      <td>15668575</td>\n",
       "      <td>Female</td>\n",
       "      <td>26</td>\n",
       "      <td>43000</td>\n",
       "      <td>0</td>\n",
       "    </tr>\n",
       "    <tr>\n",
       "      <th>3</th>\n",
       "      <td>15603246</td>\n",
       "      <td>Female</td>\n",
       "      <td>27</td>\n",
       "      <td>57000</td>\n",
       "      <td>0</td>\n",
       "    </tr>\n",
       "    <tr>\n",
       "      <th>4</th>\n",
       "      <td>15804002</td>\n",
       "      <td>Male</td>\n",
       "      <td>19</td>\n",
       "      <td>76000</td>\n",
       "      <td>0</td>\n",
       "    </tr>\n",
       "  </tbody>\n",
       "</table>\n",
       "</div>"
      ],
      "text/plain": [
       "    User ID  Gender  Age  EstimatedSalary  Purchased\n",
       "0  15624510    Male   19            19000          0\n",
       "1  15810944    Male   35            20000          0\n",
       "2  15668575  Female   26            43000          0\n",
       "3  15603246  Female   27            57000          0\n",
       "4  15804002    Male   19            76000          0"
      ]
     },
     "execution_count": 1,
     "metadata": {},
     "output_type": "execute_result"
    }
   ],
   "source": [
    "import numpy as np\n",
    "import pandas as pd\n",
    "from sklearn import metrics\n",
    "from sklearn.linear_model import LogisticRegression\n",
    "import seaborn as sns\n",
    "\n",
    "df=pd.read_csv('Sales.csv') #dataset\n",
    "df.head()"
   ]
  },
  {
   "cell_type": "code",
   "execution_count": 2,
   "id": "f1e4e68d",
   "metadata": {},
   "outputs": [
    {
     "data": {
      "text/plain": [
       "(400, 5)"
      ]
     },
     "execution_count": 2,
     "metadata": {},
     "output_type": "execute_result"
    }
   ],
   "source": [
    "df.shape #rows and coloumns"
   ]
  },
  {
   "cell_type": "code",
   "execution_count": null,
   "id": "75c06e5a",
   "metadata": {},
   "outputs": [],
   "source": []
  },
  {
   "cell_type": "code",
   "execution_count": 3,
   "id": "45fa66d6",
   "metadata": {},
   "outputs": [
    {
     "data": {
      "text/plain": [
       "User ID            0\n",
       "Gender             0\n",
       "Age                0\n",
       "EstimatedSalary    0\n",
       "Purchased          0\n",
       "dtype: int64"
      ]
     },
     "execution_count": 3,
     "metadata": {},
     "output_type": "execute_result"
    }
   ],
   "source": [
    "df.isnull().sum()"
   ]
  },
  {
   "cell_type": "code",
   "execution_count": 4,
   "id": "49b5f799",
   "metadata": {},
   "outputs": [],
   "source": [
    "Gender = pd.get_dummies(df, columns=['Gender'])"
   ]
  },
  {
   "cell_type": "code",
   "execution_count": 5,
   "id": "1bf77831",
   "metadata": {},
   "outputs": [
    {
     "data": {
      "text/html": [
       "<div>\n",
       "<style scoped>\n",
       "    .dataframe tbody tr th:only-of-type {\n",
       "        vertical-align: middle;\n",
       "    }\n",
       "\n",
       "    .dataframe tbody tr th {\n",
       "        vertical-align: top;\n",
       "    }\n",
       "\n",
       "    .dataframe thead th {\n",
       "        text-align: right;\n",
       "    }\n",
       "</style>\n",
       "<table border=\"1\" class=\"dataframe\">\n",
       "  <thead>\n",
       "    <tr style=\"text-align: right;\">\n",
       "      <th></th>\n",
       "      <th>User ID</th>\n",
       "      <th>Age</th>\n",
       "      <th>EstimatedSalary</th>\n",
       "      <th>Purchased</th>\n",
       "      <th>Gender_Female</th>\n",
       "      <th>Gender_Male</th>\n",
       "    </tr>\n",
       "  </thead>\n",
       "  <tbody>\n",
       "    <tr>\n",
       "      <th>0</th>\n",
       "      <td>15624510</td>\n",
       "      <td>19</td>\n",
       "      <td>19000</td>\n",
       "      <td>0</td>\n",
       "      <td>0</td>\n",
       "      <td>1</td>\n",
       "    </tr>\n",
       "    <tr>\n",
       "      <th>1</th>\n",
       "      <td>15810944</td>\n",
       "      <td>35</td>\n",
       "      <td>20000</td>\n",
       "      <td>0</td>\n",
       "      <td>0</td>\n",
       "      <td>1</td>\n",
       "    </tr>\n",
       "    <tr>\n",
       "      <th>2</th>\n",
       "      <td>15668575</td>\n",
       "      <td>26</td>\n",
       "      <td>43000</td>\n",
       "      <td>0</td>\n",
       "      <td>1</td>\n",
       "      <td>0</td>\n",
       "    </tr>\n",
       "    <tr>\n",
       "      <th>3</th>\n",
       "      <td>15603246</td>\n",
       "      <td>27</td>\n",
       "      <td>57000</td>\n",
       "      <td>0</td>\n",
       "      <td>1</td>\n",
       "      <td>0</td>\n",
       "    </tr>\n",
       "    <tr>\n",
       "      <th>4</th>\n",
       "      <td>15804002</td>\n",
       "      <td>19</td>\n",
       "      <td>76000</td>\n",
       "      <td>0</td>\n",
       "      <td>0</td>\n",
       "      <td>1</td>\n",
       "    </tr>\n",
       "  </tbody>\n",
       "</table>\n",
       "</div>"
      ],
      "text/plain": [
       "    User ID  Age  EstimatedSalary  Purchased  Gender_Female  Gender_Male\n",
       "0  15624510   19            19000          0              0            1\n",
       "1  15810944   35            20000          0              0            1\n",
       "2  15668575   26            43000          0              1            0\n",
       "3  15603246   27            57000          0              1            0\n",
       "4  15804002   19            76000          0              0            1"
      ]
     },
     "execution_count": 5,
     "metadata": {},
     "output_type": "execute_result"
    }
   ],
   "source": [
    "Gender.head()"
   ]
  },
  {
   "cell_type": "code",
   "execution_count": 6,
   "id": "8670d555",
   "metadata": {},
   "outputs": [],
   "source": [
    "X=df.iloc[:,[2,3]] #variable \n",
    "Y=df.iloc[:,[4]]   #target "
   ]
  },
  {
   "cell_type": "code",
   "execution_count": 7,
   "id": "dcc19311",
   "metadata": {},
   "outputs": [
    {
     "data": {
      "text/html": [
       "<div>\n",
       "<style scoped>\n",
       "    .dataframe tbody tr th:only-of-type {\n",
       "        vertical-align: middle;\n",
       "    }\n",
       "\n",
       "    .dataframe tbody tr th {\n",
       "        vertical-align: top;\n",
       "    }\n",
       "\n",
       "    .dataframe thead th {\n",
       "        text-align: right;\n",
       "    }\n",
       "</style>\n",
       "<table border=\"1\" class=\"dataframe\">\n",
       "  <thead>\n",
       "    <tr style=\"text-align: right;\">\n",
       "      <th></th>\n",
       "      <th>Age</th>\n",
       "      <th>EstimatedSalary</th>\n",
       "    </tr>\n",
       "  </thead>\n",
       "  <tbody>\n",
       "    <tr>\n",
       "      <th>0</th>\n",
       "      <td>19</td>\n",
       "      <td>19000</td>\n",
       "    </tr>\n",
       "    <tr>\n",
       "      <th>1</th>\n",
       "      <td>35</td>\n",
       "      <td>20000</td>\n",
       "    </tr>\n",
       "    <tr>\n",
       "      <th>2</th>\n",
       "      <td>26</td>\n",
       "      <td>43000</td>\n",
       "    </tr>\n",
       "    <tr>\n",
       "      <th>3</th>\n",
       "      <td>27</td>\n",
       "      <td>57000</td>\n",
       "    </tr>\n",
       "    <tr>\n",
       "      <th>4</th>\n",
       "      <td>19</td>\n",
       "      <td>76000</td>\n",
       "    </tr>\n",
       "  </tbody>\n",
       "</table>\n",
       "</div>"
      ],
      "text/plain": [
       "   Age  EstimatedSalary\n",
       "0   19            19000\n",
       "1   35            20000\n",
       "2   26            43000\n",
       "3   27            57000\n",
       "4   19            76000"
      ]
     },
     "execution_count": 7,
     "metadata": {},
     "output_type": "execute_result"
    }
   ],
   "source": [
    "X.head()"
   ]
  },
  {
   "cell_type": "code",
   "execution_count": 8,
   "id": "70e4c3c0",
   "metadata": {},
   "outputs": [
    {
     "data": {
      "text/html": [
       "<div>\n",
       "<style scoped>\n",
       "    .dataframe tbody tr th:only-of-type {\n",
       "        vertical-align: middle;\n",
       "    }\n",
       "\n",
       "    .dataframe tbody tr th {\n",
       "        vertical-align: top;\n",
       "    }\n",
       "\n",
       "    .dataframe thead th {\n",
       "        text-align: right;\n",
       "    }\n",
       "</style>\n",
       "<table border=\"1\" class=\"dataframe\">\n",
       "  <thead>\n",
       "    <tr style=\"text-align: right;\">\n",
       "      <th></th>\n",
       "      <th>Age</th>\n",
       "      <th>EstimatedSalary</th>\n",
       "    </tr>\n",
       "  </thead>\n",
       "  <tbody>\n",
       "    <tr>\n",
       "      <th>count</th>\n",
       "      <td>400.000000</td>\n",
       "      <td>400.000000</td>\n",
       "    </tr>\n",
       "    <tr>\n",
       "      <th>mean</th>\n",
       "      <td>37.655000</td>\n",
       "      <td>69742.500000</td>\n",
       "    </tr>\n",
       "    <tr>\n",
       "      <th>std</th>\n",
       "      <td>10.482877</td>\n",
       "      <td>34096.960282</td>\n",
       "    </tr>\n",
       "    <tr>\n",
       "      <th>min</th>\n",
       "      <td>18.000000</td>\n",
       "      <td>15000.000000</td>\n",
       "    </tr>\n",
       "    <tr>\n",
       "      <th>25%</th>\n",
       "      <td>29.750000</td>\n",
       "      <td>43000.000000</td>\n",
       "    </tr>\n",
       "    <tr>\n",
       "      <th>50%</th>\n",
       "      <td>37.000000</td>\n",
       "      <td>70000.000000</td>\n",
       "    </tr>\n",
       "    <tr>\n",
       "      <th>75%</th>\n",
       "      <td>46.000000</td>\n",
       "      <td>88000.000000</td>\n",
       "    </tr>\n",
       "    <tr>\n",
       "      <th>max</th>\n",
       "      <td>60.000000</td>\n",
       "      <td>150000.000000</td>\n",
       "    </tr>\n",
       "  </tbody>\n",
       "</table>\n",
       "</div>"
      ],
      "text/plain": [
       "              Age  EstimatedSalary\n",
       "count  400.000000       400.000000\n",
       "mean    37.655000     69742.500000\n",
       "std     10.482877     34096.960282\n",
       "min     18.000000     15000.000000\n",
       "25%     29.750000     43000.000000\n",
       "50%     37.000000     70000.000000\n",
       "75%     46.000000     88000.000000\n",
       "max     60.000000    150000.000000"
      ]
     },
     "execution_count": 8,
     "metadata": {},
     "output_type": "execute_result"
    }
   ],
   "source": [
    "X.describe()"
   ]
  },
  {
   "cell_type": "code",
   "execution_count": 9,
   "id": "c6350aaa",
   "metadata": {},
   "outputs": [
    {
     "data": {
      "text/plain": [
       "0    0.6425\n",
       "1    0.3575\n",
       "Name: Purchased, dtype: float64"
      ]
     },
     "execution_count": 9,
     "metadata": {},
     "output_type": "execute_result"
    }
   ],
   "source": [
    "Y.Purchased.value_counts(normalize=True)"
   ]
  },
  {
   "cell_type": "code",
   "execution_count": 10,
   "id": "cdc5f1a1",
   "metadata": {},
   "outputs": [],
   "source": [
    "#split \n",
    "from sklearn.model_selection import train_test_split\n",
    "X_Train,X_Test,Y_Train,Y_Test=train_test_split(X,Y,test_size=0.25,random_state=0)"
   ]
  },
  {
   "cell_type": "code",
   "execution_count": 11,
   "id": "c49c12ca",
   "metadata": {},
   "outputs": [
    {
     "name": "stdout",
     "output_type": "stream",
     "text": [
      "Training data:  (300, 2)\n",
      "Test data:  (100, 2)\n"
     ]
    }
   ],
   "source": [
    "print(\"Training data: \",X_Train.shape)\n",
    "print(\"Test data: \",X_Test.shape)"
   ]
  },
  {
   "cell_type": "code",
   "execution_count": 12,
   "id": "35c1affd",
   "metadata": {},
   "outputs": [],
   "source": [
    "#feature\n",
    "\n",
    "from sklearn.preprocessing import StandardScaler # to be units and precision\n",
    "sc_X=StandardScaler()\n",
    "X_Train=sc_X.fit_transform(X_Train) #transformation,mean and standard deviation from the training data during the fit step.\n",
    "X_Test=sc_X.transform(X_Test) "
   ]
  },
  {
   "cell_type": "code",
   "execution_count": 13,
   "id": "ca4c5cf8",
   "metadata": {},
   "outputs": [
    {
     "data": {
      "image/png": "[encoded data removed]",
      "text/plain": [
       "<Figure size 640x480 with 1 Axes>"
      ]
     },
     "metadata": {},
     "output_type": "display_data"
    }
   ],
   "source": [
    "#scatter plot train data , purple 0 yellow 1 \n",
    "import matplotlib.pyplot as plt\n",
    "\n",
    "plt.scatter(X_Train[:, 0], X_Train[:, 1],c=Y_Train.values.ravel()) \n",
    "plt.xlabel('Age')\n",
    "plt.ylabel('Estimated salary') \n",
    "plt.title('Train Data') \n",
    "plt.show()"
   ]
  },
  {
   "cell_type": "code",
   "execution_count": 14,
   "id": "2902caf5",
   "metadata": {},
   "outputs": [
    {
     "data": {
      "image/png": "[encoded data removed]",
      "text/plain": [
       "<Figure size 640x480 with 1 Axes>"
      ]
     },
     "metadata": {},
     "output_type": "display_data"
    }
   ],
   "source": [
    "#scatter plot test data\n",
    "import matplotlib.pyplot as plt\n",
    "\n",
    "plt.scatter(X_Test[:, 0], X_Test[:, 1],c=Y_Test.values.ravel()) \n",
    "plt.xlabel('Age')\n",
    "plt.ylabel('Estimated salary') \n",
    "plt.title('Test Data') \n",
    "plt.show()"
   ]
  },
  {
   "cell_type": "code",
   "execution_count": 15,
   "id": "b0c6ae30",
   "metadata": {},
   "outputs": [],
   "source": [
    "##model\n",
    "from sklearn.svm import SVC #algo\n",
    "#a kernel is a function that computes a similarity measure between pairs of data points in a given feature space.\n",
    "classifier=SVC(kernel='linear',random_state=0)  #hyperplane separates the different classes of data points\n",
    "classifier.fit(X_Train,Y_Train.values.ravel()) #train\n",
    "\n",
    "#predicting results\n",
    "Y_Pred=classifier.predict(X_Test) "
   ]
  },
  {
   "cell_type": "code",
   "execution_count": 16,
   "id": "46f30461",
   "metadata": {},
   "outputs": [
    {
     "data": {
      "text/plain": [
       "array([0, 0, 0, 0, 0, 0, 0, 1, 0, 0, 0, 0, 0, 0, 0, 0, 0, 0, 1, 0, 0, 1,\n",
       "       0, 1, 0, 1, 0, 0, 0, 0, 0, 0, 1, 0, 0, 0, 0, 0, 0, 1, 0, 0, 0, 0,\n",
       "       1, 0, 0, 1, 0, 1, 1, 0, 0, 0, 1, 0, 0, 0, 0, 0, 0, 1, 0, 0, 0, 1,\n",
       "       0, 0, 0, 0, 1, 0, 0, 0, 0, 0, 1, 0, 1, 1, 1, 1, 0, 0, 1, 1, 0, 1,\n",
       "       0, 0, 0, 1, 0, 0, 0, 0, 0, 0, 1, 1], dtype=int64)"
      ]
     },
     "execution_count": 16,
     "metadata": {},
     "output_type": "execute_result"
    }
   ],
   "source": [
    "Y_Pred"
   ]
  },
  {
   "cell_type": "code",
   "execution_count": 17,
   "id": "2c157630",
   "metadata": {},
   "outputs": [
    {
     "ename": "NameError",
     "evalue": "name 'Y_pred' is not defined",
     "output_type": "error",
     "traceback": [
      "\u001b[1;31m---------------------------------------------------------------------------\u001b[0m",
      "\u001b[1;31mNameError\u001b[0m                                 Traceback (most recent call last)",
      "\u001b[1;32m~\\AppData\\Local\\Temp\\ipykernel_19652\\3363550781.py\u001b[0m in \u001b[0;36m<module>\u001b[1;34m\u001b[0m\n\u001b[1;32m----> 1\u001b[1;33m \u001b[0mn\u001b[0m\u001b[1;33m=\u001b[0m\u001b[0mY_pred\u001b[0m\u001b[1;33m.\u001b[0m\u001b[0mshape\u001b[0m\u001b[1;33m[\u001b[0m\u001b[1;36m0\u001b[0m\u001b[1;33m]\u001b[0m\u001b[1;33m\u001b[0m\u001b[1;33m\u001b[0m\u001b[0m\n\u001b[0m\u001b[0;32m      2\u001b[0m \u001b[0mn\u001b[0m\u001b[1;33m\u001b[0m\u001b[1;33m\u001b[0m\u001b[0m\n",
      "\u001b[1;31mNameError\u001b[0m: name 'Y_pred' is not defined"
     ]
    }
   ],
   "source": [
    "n=Y_pred.shape[0]\n",
    "n"
   ]
  },
  {
   "cell_type": "code",
   "execution_count": null,
   "id": "a7091d0f",
   "metadata": {},
   "outputs": [],
   "source": [
    "from sklearn import metrics\n",
    "print('Accuracy(linear):',metrics.accuracy_score(Y_Test,Y_Pred))"
   ]
  },
  {
   "cell_type": "code",
   "execution_count": null,
   "id": "45fd17a7",
   "metadata": {},
   "outputs": [],
   "source": [
    "##model DOOOOOOOOOOOOO\n",
    "from sklearn.svm import SVC #algo\n",
    "#a kernel is a function that computes a similarity measure between pairs of data points in a given feature space.\n",
    "classifier=SVC(kernel='linear',random_state=0)  #hyperplane separates the different classes of data points\n",
    "classifier.fit(X_Train,Y_Train.values.ravel()) #train\n",
    "\n",
    "#predicting results\n",
    "Y_Pred=classifier.predict(X_Test) \n",
    "# plot datapoints  \n",
    "plt.scatter(X_Test[:, 0],X_Test[:, 1],c=Y_Test.values.ravel()) \n",
    "#plt.scatter (x Train:, 0), x Train:, 1), Train)\n",
    "\n",
    "\n",
    "# Create the hyperplane\n",
    "w = classifier.coef_[0]\n",
    "a = -w[0] / w[1]\n",
    "xx = np.linspace(-2.5, 2.5)\n",
    "yy = a * xx - (classifier.intercept_[0]) / w[1]\n",
    "\n",
    "# Plot the hyperplane\n",
    "plt.plot(xx, yy)\n",
    "\n",
    "# Show the plot\n",
    "plt.show()\n"
   ]
  },
  {
   "cell_type": "code",
   "execution_count": null,
   "id": "f2e7a0e7",
   "metadata": {},
   "outputs": [],
   "source": [
    "#confusion metrix\n",
    "from sklearn.metrics import confusion_matrix\n",
    "cm = confusion_matrix(Y_Test,Y_Pred)\n",
    "\n",
    "print ('Confusion Matrix(GaussianNB)')\n",
    "cm"
   ]
  },
  {
   "cell_type": "code",
   "execution_count": null,
   "id": "d066b65d",
   "metadata": {},
   "outputs": [],
   "source": [
    "TN = cm[0,0]\n",
    "print(\"True Negative:\",TN)\n",
    "\n",
    "FP=cm[0,1]\n",
    "print(\"False Possitive:\",FP)\n",
    "\n",
    "FN = cm[1,0]\n",
    "print(\"False Negative:\",FN)\n",
    "\n",
    "TP = cm[1,1]\n",
    "print(\"True Possitive:\",TP)\n",
    "\n",
    "#Again Accuracy\n",
    "(TN+TP)/n\n",
    "#TPR(True possitive rate) or Sensitivity\n",
    "recall = TP/(TP+FP)\n",
    "recall\n",
    "\n",
    "#TNR/Specificity\n",
    "specificity = TN/(TN+FP)\n",
    "specificity\n",
    "\n",
    "#FPR\n",
    "FPR = 1-specificity\n",
    "FPR\n",
    "precision = TP/(TP+FP)\n",
    "precision\n",
    "\n",
    "#F1_score is the hermonic mean between precision and reall\n",
    "F1_score = (2*precision*recall)/(precision+recall)\n",
    "F1_score\n",
    "\n",
    "\n",
    "#or\n",
    "from sklearn.metrics import f1_score\n",
    "f1_score(Y_Test,Y_Pred)\n"
   ]
  },
  {
   "cell_type": "code",
   "execution_count": null,
   "id": "db51d16e",
   "metadata": {},
   "outputs": [],
   "source": [
    "## ROC(Receiver operating characteristic) Curve \n",
    "#[plot between false positive rate and true positive rate]\n",
    "from sklearn.metrics import roc_curve\n",
    "probs = nb.predict_proba(X_Test)\n",
    "probs\n",
    "prob_positive = probs[:, 1]\n",
    "fpr, tpr, threshold = roc_curve(Y_Test, prob_positive)\n",
    "\n",
    "# Reshape each array individually\n",
    "threshold_reshaped = threshold.reshape(-1, 1)\n",
    "fpr_reshaped = fpr.reshape(-1, 1)\n",
    "tpr_reshaped = tpr.reshape(-1, 1)\n",
    "\n",
    "# Horizontally stack the reshaped arrays\n",
    "stacked_data = np.hstack((threshold_reshaped, fpr_reshaped, tpr_reshaped))\n",
    "\n",
    "# Create a DataFrame with appropriate column names\n",
    "df = pd.DataFrame(stacked_data, columns=['threshold', 'fpr', 'tpr'])\n",
    "\n",
    "df.head()\n",
    "\n"
   ]
  },
  {
   "cell_type": "code",
   "execution_count": null,
   "id": "07193aa0",
   "metadata": {},
   "outputs": [],
   "source": [
    "from sklearn.metrics import auc\n",
    "roc_auc = auc(fpr,tpr)\n",
    "roc_auc\n",
    "import matplotlib.pyplot as plt\n",
    "plt.title(\"receicer operating charecteristic\")\n",
    "plt.plot(fpr,tpr,'red',label = 'AUC-%0.2f'% roc_auc)\n",
    "plt.legend(loc = 'lower right')\n",
    "\n",
    "plt.plot([0,1],[0,1], color = 'darkblue',linestyle='--')\n",
    "plt.ylabel('True positive rate')\n",
    "plt.xlabel('False positive rate')\n",
    "plt.show()"
   ]
  },
  {
   "cell_type": "code",
   "execution_count": null,
   "id": "28cac7c9",
   "metadata": {},
   "outputs": [],
   "source": [
    "#F1 flot\n",
    "\n",
    "thresholds = np.arange(0, 1.01, 0.01)  # Generate thresholds from 0 to 1\n",
    "f1_scores = [f1_score(Y_Test, Y_Pred > threshold) for threshold in thresholds]\n",
    "\n",
    "plt.figure(figsize=(8, 6))\n",
    "plt.plot(thresholds, f1_scores, label='F1 Score')\n",
    "plt.xlabel('Threshold')\n",
    "plt.ylabel('F1 Score')\n",
    "plt.title('F1 Score Curve')\n",
    "plt.legend(loc='lower left')\n",
    "plt.show()"
   ]
  },
  {
   "cell_type": "code",
   "execution_count": null,
   "id": "9d8bc227",
   "metadata": {},
   "outputs": [],
   "source": [
    "# Calculate Cumulative Gains Curve\n",
    "cumulative_gains = np.cumsum(lift)\n",
    "\n",
    "# Plot Cumulative Gains Curve\n",
    "plt.subplot(2, 2, 4)\n",
    "plt.plot(thresholds[1:], cumulative_gains)\n",
    "plt.xlabel('Threshold')\n",
    "plt.ylabel('Cumulative Gains')\n",
    "plt.title('Cumulative Gains Curve')\n",
    "\n",
    "plt.tight_layout()\n",
    "plt.show()"
   ]
  },
  {
   "cell_type": "code",
   "execution_count": null,
   "id": "2fc11c15",
   "metadata": {},
   "outputs": [],
   "source": [
    "from sklearn.svm import SVC\n",
    "classifier=SVC(kernel='rbf') #radial basis function\n",
    "classifier.fit(X_Train,Y_Train.values.ravel())\n",
    "\n",
    "#predicting results\n",
    "Y_Pred=classifier.predict(X_Test)\n",
    "\n",
    "print('Accuracy(rbf):',metrics.accuracy_score(Y_Test,Y_Pred))"
   ]
  },
  {
   "cell_type": "code",
   "execution_count": 18,
   "id": "a303a248",
   "metadata": {},
   "outputs": [
    {
     "data": {
      "image/png": "[encoded data removed]",
      "text/plain": [
       "<Figure size 640x480 with 1 Axes>"
      ]
     },
     "metadata": {},
     "output_type": "display_data"
    }
   ],
   "source": [
    "import numpy as np\n",
    "import matplotlib.pyplot as plt\n",
    "from sklearn.svm import SVC\n",
    "\n",
    "# Generate some synthetic data\n",
    "np.random.seed(0)\n",
    "X = np.random.randn(200, 2)\n",
    "Y = np.logical_xor(X[:, 0] > 0, X[:, 1] > 0)\n",
    "Y = np.where(Y, 1, -1)\n",
    "\n",
    "# Split the data into training and test sets\n",
    "X_train, X_test = X[:100], X[100:]\n",
    "Y_train, Y_test = Y[:100], Y[100:]\n",
    "\n",
    "# Create and train the SVM classifier with RBF kernel\n",
    "classifier = SVC(kernel='rbf', random_state=0)\n",
    "classifier.fit(X_train, Y_train)\n",
    "\n",
    "# Create a meshgrid for plotting the decision boundary\n",
    "h = 0.02\n",
    "x_min, x_max = X[:, 0].min() - 1, X[:, 0].max() + 1\n",
    "y_min, y_max = X[:, 1].min() - 1, X[:, 1].max() + 1\n",
    "xx, yy = np.meshgrid(np.arange(x_min, x_max, h), np.arange(y_min, y_max, h))\n",
    "\n",
    "# Predict class labels for the meshgrid points\n",
    "Z = classifier.predict(np.c_[xx.ravel(), yy.ravel()])\n",
    "Z = Z.reshape(xx.shape)\n",
    "\n",
    "# Plot data points and decision boundary\n",
    "plt.contourf(xx, yy, Z, cmap=plt.cm.Spectral, alpha=0.8)\n",
    "plt.scatter(X[:, 0], X[:, 1], c=Y, cmap=plt.cm.Spectral)\n",
    "plt.xlim(xx.min(), xx.max())\n",
    "plt.ylim(yy.min(), yy.max())\n",
    "plt.xlabel('Feature 1')\n",
    "plt.ylabel('Feature 2')\n",
    "plt.title('SVM with RBF Kernel')\n",
    "plt.show()\n"
   ]
  },
  {
   "cell_type": "code",
   "execution_count": 19,
   "id": "7aa660b2",
   "metadata": {},
   "outputs": [
    {
     "name": "stdout",
     "output_type": "stream",
     "text": [
      "Confusion Matrix(GaussianNB)\n"
     ]
    },
    {
     "data": {
      "text/plain": [
       "array([[66,  2],\n",
       "       [ 8, 24]], dtype=int64)"
      ]
     },
     "execution_count": 19,
     "metadata": {},
     "output_type": "execute_result"
    }
   ],
   "source": [
    "#confusion metrix\n",
    "from sklearn.metrics import confusion_matrix\n",
    "cm = confusion_matrix(Y_Test,Y_Pred)\n",
    "\n",
    "print ('Confusion Matrix(GaussianNB)')\n",
    "cm"
   ]
  },
  {
   "cell_type": "code",
   "execution_count": 20,
   "id": "1369fa12",
   "metadata": {},
   "outputs": [
    {
     "name": "stdout",
     "output_type": "stream",
     "text": [
      "True Negative: 66\n",
      "False Possitive: 2\n",
      "False Negative: 8\n",
      "True Possitive: 24\n"
     ]
    },
    {
     "ename": "NameError",
     "evalue": "name 'n' is not defined",
     "output_type": "error",
     "traceback": [
      "\u001b[1;31m---------------------------------------------------------------------------\u001b[0m",
      "\u001b[1;31mNameError\u001b[0m                                 Traceback (most recent call last)",
      "\u001b[1;32m~\\AppData\\Local\\Temp\\ipykernel_19652\\718121789.py\u001b[0m in \u001b[0;36m<module>\u001b[1;34m\u001b[0m\n\u001b[0;32m     12\u001b[0m \u001b[1;33m\u001b[0m\u001b[0m\n\u001b[0;32m     13\u001b[0m \u001b[1;31m#Again Accuracy\u001b[0m\u001b[1;33m\u001b[0m\u001b[1;33m\u001b[0m\u001b[0m\n\u001b[1;32m---> 14\u001b[1;33m \u001b[1;33m(\u001b[0m\u001b[0mTN\u001b[0m\u001b[1;33m+\u001b[0m\u001b[0mTP\u001b[0m\u001b[1;33m)\u001b[0m\u001b[1;33m/\u001b[0m\u001b[0mn\u001b[0m\u001b[1;33m\u001b[0m\u001b[1;33m\u001b[0m\u001b[0m\n\u001b[0m\u001b[0;32m     15\u001b[0m \u001b[1;31m#TPR(True possitive rate) or Sensitivity\u001b[0m\u001b[1;33m\u001b[0m\u001b[1;33m\u001b[0m\u001b[0m\n\u001b[0;32m     16\u001b[0m \u001b[0mrecall\u001b[0m \u001b[1;33m=\u001b[0m \u001b[0mTP\u001b[0m\u001b[1;33m/\u001b[0m\u001b[1;33m(\u001b[0m\u001b[0mTP\u001b[0m\u001b[1;33m+\u001b[0m\u001b[0mFP\u001b[0m\u001b[1;33m)\u001b[0m\u001b[1;33m\u001b[0m\u001b[1;33m\u001b[0m\u001b[0m\n",
      "\u001b[1;31mNameError\u001b[0m: name 'n' is not defined"
     ]
    }
   ],
   "source": [
    "TN = cm[0,0]\n",
    "print(\"True Negative:\",TN)\n",
    "\n",
    "FP=cm[0,1]\n",
    "print(\"False Possitive:\",FP)\n",
    "\n",
    "FN = cm[1,0]\n",
    "print(\"False Negative:\",FN)\n",
    "\n",
    "TP = cm[1,1]\n",
    "print(\"True Possitive:\",TP)\n",
    "\n",
    "#Again Accuracy\n",
    "(TN+TP)/n\n",
    "#TPR(True possitive rate) or Sensitivity\n",
    "recall = TP/(TP+FP)\n",
    "recall\n",
    "\n",
    "#TNR/Specificity\n",
    "specificity = TN/(TN+FP)\n",
    "specificity\n",
    "\n",
    "#FPR\n",
    "FPR = 1-specificity\n",
    "FPR\n",
    "precision = TP/(TP+FP)\n",
    "precision\n",
    "\n",
    "#F1_score is the hermonic mean between precision and reall\n",
    "F1_score = (2*precision*recall)/(precision+recall)\n",
    "F1_score\n",
    "\n",
    "\n",
    "#or\n",
    "from sklearn.metrics import f1_score\n",
    "f1_score(Y_Test,Y_Pred)"
   ]
  },
  {
   "cell_type": "code",
   "execution_count": null,
   "id": "d02e487c",
   "metadata": {},
   "outputs": [],
   "source": [
    "## ROC(Receiver operating characteristic) Curve \n",
    "#[plot between false positive rate and true positive rate]\n",
    "from sklearn.metrics import roc_curve\n",
    "probs = nb.predict_proba(X_Test)\n",
    "probs\n",
    "prob_positive = probs[:, 1]\n",
    "fpr, tpr, threshold = roc_curve(Y_Test, prob_positive)\n",
    "\n",
    "# Reshape each array individually\n",
    "threshold_reshaped = threshold.reshape(-1, 1)\n",
    "fpr_reshaped = fpr.reshape(-1, 1)\n",
    "tpr_reshaped = tpr.reshape(-1, 1)\n",
    "\n",
    "# Horizontally stack the reshaped arrays\n",
    "stacked_data = np.hstack((threshold_reshaped, fpr_reshaped, tpr_reshaped))\n",
    "\n",
    "# Create a DataFrame with appropriate column names\n",
    "df = pd.DataFrame(stacked_data, columns=['threshold', 'fpr', 'tpr'])\n",
    "\n",
    "df.head()"
   ]
  },
  {
   "cell_type": "code",
   "execution_count": null,
   "id": "c0bf0b87",
   "metadata": {},
   "outputs": [],
   "source": [
    "from sklearn.metrics import auc\n",
    "roc_auc = auc(fpr,tpr)\n",
    "roc_auc\n",
    "import matplotlib.pyplot as plt\n",
    "plt.title(\"receicer operating charecteristic\")\n",
    "plt.plot(fpr,tpr,'red',label = 'AUC-%0.2f'% roc_auc)\n",
    "plt.legend(loc = 'lower right')\n",
    "\n",
    "plt.plot([0,1],[0,1], color = 'darkblue',linestyle='--')\n",
    "plt.ylabel('True positive rate')\n",
    "plt.xlabel('False positive rate')\n",
    "plt.show()"
   ]
  },
  {
   "cell_type": "code",
   "execution_count": null,
   "id": "388cbf95",
   "metadata": {},
   "outputs": [],
   "source": [
    "#F1 flot\n",
    "\n",
    "thresholds = np.arange(0, 1.01, 0.01)  # Generate thresholds from 0 to 1\n",
    "f1_scores = [f1_score(Y_Test, Y_Pred > threshold) for threshold in thresholds]\n",
    "\n",
    "plt.figure(figsize=(8, 6))\n",
    "plt.plot(thresholds, f1_scores, label='F1 Score')\n",
    "plt.xlabel('Threshold')\n",
    "plt.ylabel('F1 Score')\n",
    "plt.title('F1 Score Curve')\n",
    "plt.legend(loc='lower left')\n",
    "plt.show()\n"
   ]
  },
  {
   "cell_type": "code",
   "execution_count": null,
   "id": "feadbb27",
   "metadata": {},
   "outputs": [],
   "source": [
    "# Calculate Cumulative Gains Curve\n",
    "cumulative_gains = np.cumsum(lift)\n",
    "\n",
    "# Plot Cumulative Gains Curve\n",
    "plt.subplot(2, 2, 4)\n",
    "plt.plot(thresholds[1:], cumulative_gains)\n",
    "plt.xlabel('Threshold')\n",
    "plt.ylabel('Cumulative Gains')\n",
    "plt.title('Cumulative Gains Curve')\n",
    "\n",
    "plt.tight_layout()\n",
    "plt.show()"
   ]
  },
  {
   "cell_type": "code",
   "execution_count": null,
   "id": "47b15bcb",
   "metadata": {},
   "outputs": [],
   "source": [
    "sv=SVC(kernel='poly',degree=4)\n",
    "sv.fit(X_Train,Y_Train.values.ravel())\n",
    "\n",
    "#predicting results\n",
    "Y_Pred=sv.predict(X_Test)\n",
    "\n",
    "print('Accuracy(poly):',metrics.accuracy_score(Y_Test,Y_Pred))"
   ]
  },
  {
   "cell_type": "code",
   "execution_count": null,
   "id": "af1970cf",
   "metadata": {},
   "outputs": [],
   "source": [
    "import numpy as np\n",
    "import matplotlib.pyplot as plt\n",
    "from sklearn.svm import SVC\n",
    "\n",
    "# Generate some synthetic data\n",
    "np.random.seed(0)\n",
    "X = np.random.randn(200, 2)\n",
    "Y = np.logical_xor(X[:, 0] > 0, X[:, 1] > 0)\n",
    "Y = np.where(Y, 1, -1)\n",
    "\n",
    "# Split the data into training and test sets\n",
    "X_train, X_test = X[:100], X[100:]\n",
    "Y_train, Y_test = Y[:100], Y[100:]\n",
    "\n",
    "# Create and train the SVM classifier with Polynomial kernel (degree=4)\n",
    "classifier = SVC(kernel='poly', degree=4, random_state=0)\n",
    "classifier.fit(X_train, Y_train)\n",
    "\n",
    "# Create a meshgrid for plotting the decision boundary\n",
    "h = 0.02\n",
    "x_min, x_max = X[:, 0].min() - 1, X[:, 0].max() + 1\n",
    "y_min, y_max = X[:, 1].min() - 1, X[:, 1].max() + 1\n",
    "xx, yy = np.meshgrid(np.arange(x_min, x_max, h), np.arange(y_min, y_max, h))\n",
    "\n",
    "# Predict class labels for the meshgrid points\n",
    "Z = classifier.predict(np.c_[xx.ravel(), yy.ravel()])\n",
    "Z = Z.reshape(xx.shape)\n",
    "\n",
    "# Plot data points and decision boundary\n",
    "plt.contourf(xx, yy, Z, cmap=plt.cm.Spectral, alpha=0.8)\n",
    "plt.scatter(X[:, 0], X[:, 1], c=Y, cmap=plt.cm.Spectral)\n",
    "plt.xlim(xx.min(), xx.max())\n",
    "plt.ylim(yy.min(), yy.max())\n",
    "plt.xlabel('Feature 1')\n",
    "plt.ylabel('Feature 2')\n",
    "plt.title('SVM with Polynomial Kernel (Degree 4)')\n",
    "plt.show()\n"
   ]
  },
  {
   "cell_type": "code",
   "execution_count": null,
   "id": "7636fffe",
   "metadata": {},
   "outputs": [],
   "source": [
    "#confusion metrix\n",
    "from sklearn.metrics import confusion_matrix\n",
    "cm = confusion_matrix(Y_Test,Y_Pred)\n",
    "\n",
    "print ('Confusion Matrix(GaussianNB)')\n",
    "cm"
   ]
  },
  {
   "cell_type": "code",
   "execution_count": null,
   "id": "bd52a7ed",
   "metadata": {},
   "outputs": [],
   "source": [
    "TN = cm[0,0]\n",
    "print(\"True Negative:\",TN)\n",
    "\n",
    "FP=cm[0,1]\n",
    "print(\"False Possitive:\",FP)\n",
    "\n",
    "FN = cm[1,0]\n",
    "print(\"False Negative:\",FN)\n",
    "\n",
    "TP = cm[1,1]\n",
    "print(\"True Possitive:\",TP)\n",
    "\n",
    "#Again Accuracy\n",
    "(TN+TP)/n\n",
    "#TPR(True possitive rate) or Sensitivity\n",
    "recall = TP/(TP+FP)\n",
    "recall\n",
    "\n",
    "#TNR/Specificity\n",
    "specificity = TN/(TN+FP)\n",
    "specificity\n",
    "\n",
    "#FPR\n",
    "FPR = 1-specificity\n",
    "FPR\n",
    "precision = TP/(TP+FP)\n",
    "precision\n",
    "\n",
    "#F1_score is the hermonic mean between precision and reall\n",
    "F1_score = (2*precision*recall)/(precision+recall)\n",
    "F1_score"
   ]
  },
  {
   "cell_type": "code",
   "execution_count": null,
   "id": "0f4c5d9b",
   "metadata": {},
   "outputs": [],
   "source": [
    "#or\n",
    "from sklearn.metrics import f1_score\n",
    "f1_score(Y_Test,Y_Pred)"
   ]
  },
  {
   "cell_type": "code",
   "execution_count": 21,
   "id": "e94561af",
   "metadata": {},
   "outputs": [
    {
     "ename": "NameError",
     "evalue": "name 'nb' is not defined",
     "output_type": "error",
     "traceback": [
      "\u001b[1;31m---------------------------------------------------------------------------\u001b[0m",
      "\u001b[1;31mNameError\u001b[0m                                 Traceback (most recent call last)",
      "\u001b[1;32m~\\AppData\\Local\\Temp\\ipykernel_19652\\1077289451.py\u001b[0m in \u001b[0;36m<module>\u001b[1;34m\u001b[0m\n\u001b[0;32m      2\u001b[0m \u001b[1;31m#[plot between false positive rate and true positive rate]\u001b[0m\u001b[1;33m\u001b[0m\u001b[1;33m\u001b[0m\u001b[0m\n\u001b[0;32m      3\u001b[0m \u001b[1;32mfrom\u001b[0m \u001b[0msklearn\u001b[0m\u001b[1;33m.\u001b[0m\u001b[0mmetrics\u001b[0m \u001b[1;32mimport\u001b[0m \u001b[0mroc_curve\u001b[0m\u001b[1;33m\u001b[0m\u001b[1;33m\u001b[0m\u001b[0m\n\u001b[1;32m----> 4\u001b[1;33m \u001b[0mprobs\u001b[0m \u001b[1;33m=\u001b[0m \u001b[0mnb\u001b[0m\u001b[1;33m.\u001b[0m\u001b[0mpredict_proba\u001b[0m\u001b[1;33m(\u001b[0m\u001b[0mX_Test\u001b[0m\u001b[1;33m)\u001b[0m\u001b[1;33m\u001b[0m\u001b[1;33m\u001b[0m\u001b[0m\n\u001b[0m\u001b[0;32m      5\u001b[0m \u001b[0mprobs\u001b[0m\u001b[1;33m\u001b[0m\u001b[1;33m\u001b[0m\u001b[0m\n\u001b[0;32m      6\u001b[0m \u001b[0mprob_positive\u001b[0m \u001b[1;33m=\u001b[0m \u001b[0mprobs\u001b[0m\u001b[1;33m[\u001b[0m\u001b[1;33m:\u001b[0m\u001b[1;33m,\u001b[0m \u001b[1;36m1\u001b[0m\u001b[1;33m]\u001b[0m\u001b[1;33m\u001b[0m\u001b[1;33m\u001b[0m\u001b[0m\n",
      "\u001b[1;31mNameError\u001b[0m: name 'nb' is not defined"
     ]
    }
   ],
   "source": [
    "## ROC(Receiver operating characteristic) Curve \n",
    "#[plot between false positive rate and true positive rate]\n",
    "from sklearn.metrics import roc_curve\n",
    "probs = nb.predict_proba(X_Test)\n",
    "probs\n",
    "prob_positive = probs[:, 1]\n",
    "fpr, tpr, threshold = roc_curve(Y_Test, prob_positive)\n",
    "\n",
    "# Reshape each array individually\n",
    "threshold_reshaped = threshold.reshape(-1, 1)\n",
    "fpr_reshaped = fpr.reshape(-1, 1)\n",
    "tpr_reshaped = tpr.reshape(-1, 1)\n",
    "\n",
    "# Horizontally stack the reshaped arrays\n",
    "stacked_data = np.hstack((threshold_reshaped, fpr_reshaped, tpr_reshaped))\n",
    "\n",
    "# Create a DataFrame with appropriate column names\n",
    "df = pd.DataFrame(stacked_data, columns=['threshold', 'fpr', 'tpr'])\n",
    "\n",
    "df.head()"
   ]
  },
  {
   "cell_type": "code",
   "execution_count": 22,
   "id": "e9a2211d",
   "metadata": {},
   "outputs": [
    {
     "ename": "NameError",
     "evalue": "name 'fpr' is not defined",
     "output_type": "error",
     "traceback": [
      "\u001b[1;31m---------------------------------------------------------------------------\u001b[0m",
      "\u001b[1;31mNameError\u001b[0m                                 Traceback (most recent call last)",
      "\u001b[1;32m~\\AppData\\Local\\Temp\\ipykernel_19652\\3782356683.py\u001b[0m in \u001b[0;36m<module>\u001b[1;34m\u001b[0m\n\u001b[0;32m      1\u001b[0m \u001b[1;32mfrom\u001b[0m \u001b[0msklearn\u001b[0m\u001b[1;33m.\u001b[0m\u001b[0mmetrics\u001b[0m \u001b[1;32mimport\u001b[0m \u001b[0mauc\u001b[0m\u001b[1;33m\u001b[0m\u001b[1;33m\u001b[0m\u001b[0m\n\u001b[1;32m----> 2\u001b[1;33m \u001b[0mroc_auc\u001b[0m \u001b[1;33m=\u001b[0m \u001b[0mauc\u001b[0m\u001b[1;33m(\u001b[0m\u001b[0mfpr\u001b[0m\u001b[1;33m,\u001b[0m\u001b[0mtpr\u001b[0m\u001b[1;33m)\u001b[0m\u001b[1;33m\u001b[0m\u001b[1;33m\u001b[0m\u001b[0m\n\u001b[0m\u001b[0;32m      3\u001b[0m \u001b[0mroc_auc\u001b[0m\u001b[1;33m\u001b[0m\u001b[1;33m\u001b[0m\u001b[0m\n\u001b[0;32m      4\u001b[0m \u001b[1;32mimport\u001b[0m \u001b[0mmatplotlib\u001b[0m\u001b[1;33m.\u001b[0m\u001b[0mpyplot\u001b[0m \u001b[1;32mas\u001b[0m \u001b[0mplt\u001b[0m\u001b[1;33m\u001b[0m\u001b[1;33m\u001b[0m\u001b[0m\n\u001b[0;32m      5\u001b[0m \u001b[0mplt\u001b[0m\u001b[1;33m.\u001b[0m\u001b[0mtitle\u001b[0m\u001b[1;33m(\u001b[0m\u001b[1;34m\"receicer operating charecteristic\"\u001b[0m\u001b[1;33m)\u001b[0m\u001b[1;33m\u001b[0m\u001b[1;33m\u001b[0m\u001b[0m\n",
      "\u001b[1;31mNameError\u001b[0m: name 'fpr' is not defined"
     ]
    }
   ],
   "source": [
    "from sklearn.metrics import auc\n",
    "roc_auc = auc(fpr,tpr)\n",
    "roc_auc\n",
    "import matplotlib.pyplot as plt\n",
    "plt.title(\"receicer operating charecteristic\")\n",
    "plt.plot(fpr,tpr,'red',label = 'AUC-%0.2f'% roc_auc)\n",
    "plt.legend(loc = 'lower right')\n",
    "\n",
    "plt.plot([0,1],[0,1], color = 'darkblue',linestyle='--')\n",
    "plt.ylabel('True positive rate')\n",
    "plt.xlabel('False positive rate')\n",
    "plt.show()"
   ]
  },
  {
   "cell_type": "code",
   "execution_count": 23,
   "id": "b1d6f1a7",
   "metadata": {},
   "outputs": [
    {
     "ename": "NameError",
     "evalue": "name 'f1_score' is not defined",
     "output_type": "error",
     "traceback": [
      "\u001b[1;31m---------------------------------------------------------------------------\u001b[0m",
      "\u001b[1;31mNameError\u001b[0m                                 Traceback (most recent call last)",
      "\u001b[1;32m~\\AppData\\Local\\Temp\\ipykernel_19652\\2328260757.py\u001b[0m in \u001b[0;36m<module>\u001b[1;34m\u001b[0m\n\u001b[0;32m      2\u001b[0m \u001b[1;33m\u001b[0m\u001b[0m\n\u001b[0;32m      3\u001b[0m \u001b[0mthresholds\u001b[0m \u001b[1;33m=\u001b[0m \u001b[0mnp\u001b[0m\u001b[1;33m.\u001b[0m\u001b[0marange\u001b[0m\u001b[1;33m(\u001b[0m\u001b[1;36m0\u001b[0m\u001b[1;33m,\u001b[0m \u001b[1;36m1.01\u001b[0m\u001b[1;33m,\u001b[0m \u001b[1;36m0.01\u001b[0m\u001b[1;33m)\u001b[0m  \u001b[1;31m# Generate thresholds from 0 to 1\u001b[0m\u001b[1;33m\u001b[0m\u001b[1;33m\u001b[0m\u001b[0m\n\u001b[1;32m----> 4\u001b[1;33m \u001b[0mf1_scores\u001b[0m \u001b[1;33m=\u001b[0m \u001b[1;33m[\u001b[0m\u001b[0mf1_score\u001b[0m\u001b[1;33m(\u001b[0m\u001b[0mY_Test\u001b[0m\u001b[1;33m,\u001b[0m \u001b[0mY_Pred\u001b[0m \u001b[1;33m>\u001b[0m \u001b[0mthreshold\u001b[0m\u001b[1;33m)\u001b[0m \u001b[1;32mfor\u001b[0m \u001b[0mthreshold\u001b[0m \u001b[1;32min\u001b[0m \u001b[0mthresholds\u001b[0m\u001b[1;33m]\u001b[0m\u001b[1;33m\u001b[0m\u001b[1;33m\u001b[0m\u001b[0m\n\u001b[0m\u001b[0;32m      5\u001b[0m \u001b[1;33m\u001b[0m\u001b[0m\n\u001b[0;32m      6\u001b[0m \u001b[0mplt\u001b[0m\u001b[1;33m.\u001b[0m\u001b[0mfigure\u001b[0m\u001b[1;33m(\u001b[0m\u001b[0mfigsize\u001b[0m\u001b[1;33m=\u001b[0m\u001b[1;33m(\u001b[0m\u001b[1;36m8\u001b[0m\u001b[1;33m,\u001b[0m \u001b[1;36m6\u001b[0m\u001b[1;33m)\u001b[0m\u001b[1;33m)\u001b[0m\u001b[1;33m\u001b[0m\u001b[1;33m\u001b[0m\u001b[0m\n",
      "\u001b[1;32m~\\AppData\\Local\\Temp\\ipykernel_19652\\2328260757.py\u001b[0m in \u001b[0;36m<listcomp>\u001b[1;34m(.0)\u001b[0m\n\u001b[0;32m      2\u001b[0m \u001b[1;33m\u001b[0m\u001b[0m\n\u001b[0;32m      3\u001b[0m \u001b[0mthresholds\u001b[0m \u001b[1;33m=\u001b[0m \u001b[0mnp\u001b[0m\u001b[1;33m.\u001b[0m\u001b[0marange\u001b[0m\u001b[1;33m(\u001b[0m\u001b[1;36m0\u001b[0m\u001b[1;33m,\u001b[0m \u001b[1;36m1.01\u001b[0m\u001b[1;33m,\u001b[0m \u001b[1;36m0.01\u001b[0m\u001b[1;33m)\u001b[0m  \u001b[1;31m# Generate thresholds from 0 to 1\u001b[0m\u001b[1;33m\u001b[0m\u001b[1;33m\u001b[0m\u001b[0m\n\u001b[1;32m----> 4\u001b[1;33m \u001b[0mf1_scores\u001b[0m \u001b[1;33m=\u001b[0m \u001b[1;33m[\u001b[0m\u001b[0mf1_score\u001b[0m\u001b[1;33m(\u001b[0m\u001b[0mY_Test\u001b[0m\u001b[1;33m,\u001b[0m \u001b[0mY_Pred\u001b[0m \u001b[1;33m>\u001b[0m \u001b[0mthreshold\u001b[0m\u001b[1;33m)\u001b[0m \u001b[1;32mfor\u001b[0m \u001b[0mthreshold\u001b[0m \u001b[1;32min\u001b[0m \u001b[0mthresholds\u001b[0m\u001b[1;33m]\u001b[0m\u001b[1;33m\u001b[0m\u001b[1;33m\u001b[0m\u001b[0m\n\u001b[0m\u001b[0;32m      5\u001b[0m \u001b[1;33m\u001b[0m\u001b[0m\n\u001b[0;32m      6\u001b[0m \u001b[0mplt\u001b[0m\u001b[1;33m.\u001b[0m\u001b[0mfigure\u001b[0m\u001b[1;33m(\u001b[0m\u001b[0mfigsize\u001b[0m\u001b[1;33m=\u001b[0m\u001b[1;33m(\u001b[0m\u001b[1;36m8\u001b[0m\u001b[1;33m,\u001b[0m \u001b[1;36m6\u001b[0m\u001b[1;33m)\u001b[0m\u001b[1;33m)\u001b[0m\u001b[1;33m\u001b[0m\u001b[1;33m\u001b[0m\u001b[0m\n",
      "\u001b[1;31mNameError\u001b[0m: name 'f1_score' is not defined"
     ]
    }
   ],
   "source": [
    "#F1 flot\n",
    "\n",
    "thresholds = np.arange(0, 1.01, 0.01)  # Generate thresholds from 0 to 1\n",
    "f1_scores = [f1_score(Y_Test, Y_Pred > threshold) for threshold in thresholds]\n",
    "\n",
    "plt.figure(figsize=(8, 6))\n",
    "plt.plot(thresholds, f1_scores, label='F1 Score')\n",
    "plt.xlabel('Threshold')\n",
    "plt.ylabel('F1 Score')\n",
    "plt.title('F1 Score Curve')\n",
    "plt.legend(loc='lower left')\n",
    "plt.show()"
   ]
  },
  {
   "cell_type": "code",
   "execution_count": 24,
   "id": "674d63db",
   "metadata": {},
   "outputs": [
    {
     "ename": "NameError",
     "evalue": "name 'lift' is not defined",
     "output_type": "error",
     "traceback": [
      "\u001b[1;31m---------------------------------------------------------------------------\u001b[0m",
      "\u001b[1;31mNameError\u001b[0m                                 Traceback (most recent call last)",
      "\u001b[1;32m~\\AppData\\Local\\Temp\\ipykernel_19652\\3204684621.py\u001b[0m in \u001b[0;36m<module>\u001b[1;34m\u001b[0m\n\u001b[0;32m      1\u001b[0m \u001b[1;31m# Calculate Cumulative Gains Curve\u001b[0m\u001b[1;33m\u001b[0m\u001b[1;33m\u001b[0m\u001b[0m\n\u001b[1;32m----> 2\u001b[1;33m \u001b[0mcumulative_gains\u001b[0m \u001b[1;33m=\u001b[0m \u001b[0mnp\u001b[0m\u001b[1;33m.\u001b[0m\u001b[0mcumsum\u001b[0m\u001b[1;33m(\u001b[0m\u001b[0mlift\u001b[0m\u001b[1;33m)\u001b[0m\u001b[1;33m\u001b[0m\u001b[1;33m\u001b[0m\u001b[0m\n\u001b[0m\u001b[0;32m      3\u001b[0m \u001b[1;33m\u001b[0m\u001b[0m\n\u001b[0;32m      4\u001b[0m \u001b[1;31m# Plot Cumulative Gains Curve\u001b[0m\u001b[1;33m\u001b[0m\u001b[1;33m\u001b[0m\u001b[0m\n\u001b[0;32m      5\u001b[0m \u001b[0mplt\u001b[0m\u001b[1;33m.\u001b[0m\u001b[0msubplot\u001b[0m\u001b[1;33m(\u001b[0m\u001b[1;36m2\u001b[0m\u001b[1;33m,\u001b[0m \u001b[1;36m2\u001b[0m\u001b[1;33m,\u001b[0m \u001b[1;36m4\u001b[0m\u001b[1;33m)\u001b[0m\u001b[1;33m\u001b[0m\u001b[1;33m\u001b[0m\u001b[0m\n",
      "\u001b[1;31mNameError\u001b[0m: name 'lift' is not defined"
     ]
    }
   ],
   "source": [
    "# Calculate Cumulative Gains Curve\n",
    "cumulative_gains = np.cumsum(lift)\n",
    "\n",
    "# Plot Cumulative Gains Curve\n",
    "plt.subplot(2, 2, 4)\n",
    "plt.plot(thresholds[1:], cumulative_gains)\n",
    "plt.xlabel('Threshold')\n",
    "plt.ylabel('Cumulative Gains')\n",
    "plt.title('Cumulative Gains Curve')\n",
    "\n",
    "plt.tight_layout()\n",
    "plt.show()"
   ]
  },
  {
   "cell_type": "code",
   "execution_count": 25,
   "id": "b190e2eb",
   "metadata": {},
   "outputs": [
    {
     "name": "stdout",
     "output_type": "stream",
     "text": [
      "Accuracy(GaussianNB): 0.9\n"
     ]
    }
   ],
   "source": [
    "#fourth\n",
    "\n",
    "from sklearn.naive_bayes import GaussianNB\n",
    "nb = GaussianNB()\n",
    "nb.fit(X_Train, Y_Train.values.ravel())\n",
    "\n",
    "Y_pred = nb.predict(X_Test)\n",
    "\n",
    "print('Accuracy(GaussianNB):', metrics.accuracy_score(Y_Test, Y_Pred))\n",
    "\n"
   ]
  },
  {
   "cell_type": "code",
   "execution_count": 26,
   "id": "87b4aa27",
   "metadata": {},
   "outputs": [
    {
     "name": "stdout",
     "output_type": "stream",
     "text": [
      "Confusion Matrix(GaussianNB)\n"
     ]
    },
    {
     "data": {
      "text/plain": [
       "array([[66,  2],\n",
       "       [ 8, 24]], dtype=int64)"
      ]
     },
     "execution_count": 26,
     "metadata": {},
     "output_type": "execute_result"
    }
   ],
   "source": [
    "#seond part \n",
    "from sklearn.metrics import confusion_matrix\n",
    "cm = confusion_matrix(Y_Test,Y_Pred)\n",
    "\n",
    "print ('Confusion Matrix(GaussianNB)')\n",
    "cm"
   ]
  },
  {
   "cell_type": "code",
   "execution_count": 27,
   "id": "ed785b0f",
   "metadata": {},
   "outputs": [
    {
     "name": "stdout",
     "output_type": "stream",
     "text": [
      "True Negative: 66\n"
     ]
    }
   ],
   "source": [
    "TN = cm[0,0]\n",
    "print(\"True Negative:\",TN)"
   ]
  },
  {
   "cell_type": "code",
   "execution_count": 28,
   "id": "2f5e5396",
   "metadata": {},
   "outputs": [
    {
     "name": "stdout",
     "output_type": "stream",
     "text": [
      "False Possitive: 2\n"
     ]
    }
   ],
   "source": [
    "FP=cm[0,1]\n",
    "print(\"False Possitive:\",FP)"
   ]
  },
  {
   "cell_type": "code",
   "execution_count": 29,
   "id": "fe6718a6",
   "metadata": {},
   "outputs": [
    {
     "name": "stdout",
     "output_type": "stream",
     "text": [
      "False Negative: 8\n"
     ]
    }
   ],
   "source": [
    "FN = cm[1,0]\n",
    "print(\"False Negative:\",FN)"
   ]
  },
  {
   "cell_type": "code",
   "execution_count": 30,
   "id": "363d6d67",
   "metadata": {},
   "outputs": [
    {
     "name": "stdout",
     "output_type": "stream",
     "text": [
      "True Possitive: 24\n"
     ]
    }
   ],
   "source": [
    "TP = cm[1,1]\n",
    "print(\"True Possitive:\",TP)"
   ]
  },
  {
   "cell_type": "code",
   "execution_count": 31,
   "id": "5f2ff412",
   "metadata": {},
   "outputs": [
    {
     "ename": "NameError",
     "evalue": "name 'n' is not defined",
     "output_type": "error",
     "traceback": [
      "\u001b[1;31m---------------------------------------------------------------------------\u001b[0m",
      "\u001b[1;31mNameError\u001b[0m                                 Traceback (most recent call last)",
      "\u001b[1;32m~\\AppData\\Local\\Temp\\ipykernel_19652\\1386805315.py\u001b[0m in \u001b[0;36m<module>\u001b[1;34m\u001b[0m\n\u001b[0;32m      1\u001b[0m \u001b[1;31m#Again Accuracy\u001b[0m\u001b[1;33m\u001b[0m\u001b[1;33m\u001b[0m\u001b[0m\n\u001b[1;32m----> 2\u001b[1;33m \u001b[1;33m(\u001b[0m\u001b[0mTN\u001b[0m\u001b[1;33m+\u001b[0m\u001b[0mTP\u001b[0m\u001b[1;33m)\u001b[0m\u001b[1;33m/\u001b[0m\u001b[0mn\u001b[0m\u001b[1;33m\u001b[0m\u001b[1;33m\u001b[0m\u001b[0m\n\u001b[0m\u001b[0;32m      3\u001b[0m \u001b[1;31m#TPR(True possitive rate) or Sensitivity\u001b[0m\u001b[1;33m\u001b[0m\u001b[1;33m\u001b[0m\u001b[0m\n\u001b[0;32m      4\u001b[0m \u001b[0mrecall\u001b[0m \u001b[1;33m=\u001b[0m \u001b[0mTP\u001b[0m\u001b[1;33m/\u001b[0m\u001b[1;33m(\u001b[0m\u001b[0mTP\u001b[0m\u001b[1;33m+\u001b[0m\u001b[0mFP\u001b[0m\u001b[1;33m)\u001b[0m\u001b[1;33m\u001b[0m\u001b[1;33m\u001b[0m\u001b[0m\n\u001b[0;32m      5\u001b[0m \u001b[0mrecall\u001b[0m\u001b[1;33m\u001b[0m\u001b[1;33m\u001b[0m\u001b[0m\n",
      "\u001b[1;31mNameError\u001b[0m: name 'n' is not defined"
     ]
    }
   ],
   "source": [
    "#Again Accuracy\n",
    "(TN+TP)/n\n",
    "#TPR(True possitive rate) or Sensitivity\n",
    "recall = TP/(TP+FP)\n",
    "recall"
   ]
  },
  {
   "cell_type": "code",
   "execution_count": 32,
   "id": "61cc8a51",
   "metadata": {},
   "outputs": [
    {
     "data": {
      "text/plain": [
       "0.9705882352941176"
      ]
     },
     "execution_count": 32,
     "metadata": {},
     "output_type": "execute_result"
    }
   ],
   "source": [
    "#TNR/Specificity\n",
    "specificity = TN/(TN+FP)\n",
    "specificity"
   ]
  },
  {
   "cell_type": "code",
   "execution_count": 33,
   "id": "ae05391a",
   "metadata": {},
   "outputs": [
    {
     "data": {
      "text/plain": [
       "0.9230769230769231"
      ]
     },
     "execution_count": 33,
     "metadata": {},
     "output_type": "execute_result"
    }
   ],
   "source": [
    "#FPR\n",
    "FPR = 1-specificity\n",
    "FPR\n",
    "precision = TP/(TP+FP)\n",
    "precision"
   ]
  },
  {
   "cell_type": "code",
   "execution_count": 34,
   "id": "a4f68ced",
   "metadata": {},
   "outputs": [
    {
     "ename": "NameError",
     "evalue": "name 'recall' is not defined",
     "output_type": "error",
     "traceback": [
      "\u001b[1;31m---------------------------------------------------------------------------\u001b[0m",
      "\u001b[1;31mNameError\u001b[0m                                 Traceback (most recent call last)",
      "\u001b[1;32m~\\AppData\\Local\\Temp\\ipykernel_19652\\3117885777.py\u001b[0m in \u001b[0;36m<module>\u001b[1;34m\u001b[0m\n\u001b[0;32m      1\u001b[0m \u001b[1;31m#F1_score is the hermonic mean between precision and reall\u001b[0m\u001b[1;33m\u001b[0m\u001b[1;33m\u001b[0m\u001b[0m\n\u001b[1;32m----> 2\u001b[1;33m \u001b[0mF1_score\u001b[0m \u001b[1;33m=\u001b[0m \u001b[1;33m(\u001b[0m\u001b[1;36m2\u001b[0m\u001b[1;33m*\u001b[0m\u001b[0mprecision\u001b[0m\u001b[1;33m*\u001b[0m\u001b[0mrecall\u001b[0m\u001b[1;33m)\u001b[0m\u001b[1;33m/\u001b[0m\u001b[1;33m(\u001b[0m\u001b[0mprecision\u001b[0m\u001b[1;33m+\u001b[0m\u001b[0mrecall\u001b[0m\u001b[1;33m)\u001b[0m\u001b[1;33m\u001b[0m\u001b[1;33m\u001b[0m\u001b[0m\n\u001b[0m\u001b[0;32m      3\u001b[0m \u001b[0mF1_score\u001b[0m\u001b[1;33m\u001b[0m\u001b[1;33m\u001b[0m\u001b[0m\n",
      "\u001b[1;31mNameError\u001b[0m: name 'recall' is not defined"
     ]
    }
   ],
   "source": [
    "#F1_score is the hermonic mean between precision and reall\n",
    "F1_score = (2*precision*recall)/(precision+recall)\n",
    "F1_score"
   ]
  },
  {
   "cell_type": "code",
   "execution_count": 35,
   "id": "7f10f802",
   "metadata": {},
   "outputs": [
    {
     "data": {
      "text/plain": [
       "0.8275862068965517"
      ]
     },
     "execution_count": 35,
     "metadata": {},
     "output_type": "execute_result"
    }
   ],
   "source": [
    "#or\n",
    "from sklearn.metrics import f1_score\n",
    "f1_score(Y_Test,Y_Pred)"
   ]
  },
  {
   "cell_type": "code",
   "execution_count": 36,
   "id": "886575a7",
   "metadata": {},
   "outputs": [],
   "source": [
    "## ROC(Receiver operating characteristic) Curve \n",
    "#[plot between false positive rate and true positive rate]\n",
    "from sklearn.metrics import roc_curve\n",
    "probs = nb.predict_proba(X_Test)\n",
    "probs\n",
    "prob_positive = probs[:, 1]\n",
    "fpr, tpr, threshold = roc_curve(Y_Test, prob_positive)\n",
    "\n"
   ]
  },
  {
   "cell_type": "code",
   "execution_count": 37,
   "id": "b2c55d29",
   "metadata": {},
   "outputs": [],
   "source": [
    "# Reshape each array individually\n",
    "threshold_reshaped = threshold.reshape(-1, 1)\n",
    "fpr_reshaped = fpr.reshape(-1, 1)\n",
    "tpr_reshaped = tpr.reshape(-1, 1)\n"
   ]
  },
  {
   "cell_type": "code",
   "execution_count": 38,
   "id": "34b65e51",
   "metadata": {},
   "outputs": [
    {
     "data": {
      "text/html": [
       "<div>\n",
       "<style scoped>\n",
       "    .dataframe tbody tr th:only-of-type {\n",
       "        vertical-align: middle;\n",
       "    }\n",
       "\n",
       "    .dataframe tbody tr th {\n",
       "        vertical-align: top;\n",
       "    }\n",
       "\n",
       "    .dataframe thead th {\n",
       "        text-align: right;\n",
       "    }\n",
       "</style>\n",
       "<table border=\"1\" class=\"dataframe\">\n",
       "  <thead>\n",
       "    <tr style=\"text-align: right;\">\n",
       "      <th></th>\n",
       "      <th>threshold</th>\n",
       "      <th>fpr</th>\n",
       "      <th>tpr</th>\n",
       "    </tr>\n",
       "  </thead>\n",
       "  <tbody>\n",
       "    <tr>\n",
       "      <th>0</th>\n",
       "      <td>1.999508</td>\n",
       "      <td>0.000000</td>\n",
       "      <td>0.00000</td>\n",
       "    </tr>\n",
       "    <tr>\n",
       "      <th>1</th>\n",
       "      <td>0.999508</td>\n",
       "      <td>0.000000</td>\n",
       "      <td>0.03125</td>\n",
       "    </tr>\n",
       "    <tr>\n",
       "      <th>2</th>\n",
       "      <td>0.969715</td>\n",
       "      <td>0.000000</td>\n",
       "      <td>0.28125</td>\n",
       "    </tr>\n",
       "    <tr>\n",
       "      <th>3</th>\n",
       "      <td>0.968220</td>\n",
       "      <td>0.014706</td>\n",
       "      <td>0.28125</td>\n",
       "    </tr>\n",
       "    <tr>\n",
       "      <th>4</th>\n",
       "      <td>0.589219</td>\n",
       "      <td>0.014706</td>\n",
       "      <td>0.78125</td>\n",
       "    </tr>\n",
       "  </tbody>\n",
       "</table>\n",
       "</div>"
      ],
      "text/plain": [
       "   threshold       fpr      tpr\n",
       "0   1.999508  0.000000  0.00000\n",
       "1   0.999508  0.000000  0.03125\n",
       "2   0.969715  0.000000  0.28125\n",
       "3   0.968220  0.014706  0.28125\n",
       "4   0.589219  0.014706  0.78125"
      ]
     },
     "execution_count": 38,
     "metadata": {},
     "output_type": "execute_result"
    }
   ],
   "source": [
    "# Horizontally stack the reshaped arrays\n",
    "stacked_data = np.hstack((threshold_reshaped, fpr_reshaped, tpr_reshaped))\n",
    "\n",
    "# Create a DataFrame with appropriate column names\n",
    "df = pd.DataFrame(stacked_data, columns=['threshold', 'fpr', 'tpr'])\n",
    "\n",
    "df.head()\n"
   ]
  },
  {
   "cell_type": "code",
   "execution_count": 39,
   "id": "4954dbe8",
   "metadata": {
    "scrolled": true
   },
   "outputs": [
    {
     "data": {
      "image/png": "[encoded data removed]",
      "text/plain": [
       "<Figure size 640x480 with 1 Axes>"
      ]
     },
     "metadata": {},
     "output_type": "display_data"
    }
   ],
   "source": [
    "from sklearn.metrics import auc\n",
    "roc_auc = auc(fpr,tpr)\n",
    "roc_auc\n",
    "import matplotlib.pyplot as plt\n",
    "plt.title(\"receicer operating charecteristic\")\n",
    "plt.plot(fpr,tpr,'red',label = 'AUC-%0.2f'% roc_auc)\n",
    "plt.legend(loc = 'lower right')\n",
    "\n",
    "plt.plot([0,1],[0,1], color = 'darkblue',linestyle='--')\n",
    "plt.ylabel('True positive rate')\n",
    "plt.xlabel('False positive rate')\n",
    "plt.show()"
   ]
  },
  {
   "cell_type": "code",
   "execution_count": 40,
   "id": "c06ae628",
   "metadata": {},
   "outputs": [
    {
     "data": {
      "image/png": "[encoded data removed]",
      "text/plain": [
       "<Figure size 800x600 with 1 Axes>"
      ]
     },
     "metadata": {},
     "output_type": "display_data"
    }
   ],
   "source": [
    "#F1 flot\n",
    "\n",
    "thresholds = np.arange(0, 1.01, 0.01)  # Generate thresholds from 0 to 1\n",
    "f1_scores = [f1_score(Y_Test, Y_Pred > threshold) for threshold in thresholds]\n",
    "\n",
    "plt.figure(figsize=(8, 6))\n",
    "plt.plot(thresholds, f1_scores, label='F1 Score')\n",
    "plt.xlabel('Threshold')\n",
    "plt.ylabel('F1 Score')\n",
    "plt.title('F1 Score Curve')\n",
    "plt.legend(loc='lower left')\n",
    "plt.show()"
   ]
  },
  {
   "cell_type": "code",
   "execution_count": 41,
   "id": "b6ef49b7",
   "metadata": {},
   "outputs": [
    {
     "ename": "NameError",
     "evalue": "name 'lift' is not defined",
     "output_type": "error",
     "traceback": [
      "\u001b[1;31m---------------------------------------------------------------------------\u001b[0m",
      "\u001b[1;31mNameError\u001b[0m                                 Traceback (most recent call last)",
      "\u001b[1;32m~\\AppData\\Local\\Temp\\ipykernel_19652\\3204684621.py\u001b[0m in \u001b[0;36m<module>\u001b[1;34m\u001b[0m\n\u001b[0;32m      1\u001b[0m \u001b[1;31m# Calculate Cumulative Gains Curve\u001b[0m\u001b[1;33m\u001b[0m\u001b[1;33m\u001b[0m\u001b[0m\n\u001b[1;32m----> 2\u001b[1;33m \u001b[0mcumulative_gains\u001b[0m \u001b[1;33m=\u001b[0m \u001b[0mnp\u001b[0m\u001b[1;33m.\u001b[0m\u001b[0mcumsum\u001b[0m\u001b[1;33m(\u001b[0m\u001b[0mlift\u001b[0m\u001b[1;33m)\u001b[0m\u001b[1;33m\u001b[0m\u001b[1;33m\u001b[0m\u001b[0m\n\u001b[0m\u001b[0;32m      3\u001b[0m \u001b[1;33m\u001b[0m\u001b[0m\n\u001b[0;32m      4\u001b[0m \u001b[1;31m# Plot Cumulative Gains Curve\u001b[0m\u001b[1;33m\u001b[0m\u001b[1;33m\u001b[0m\u001b[0m\n\u001b[0;32m      5\u001b[0m \u001b[0mplt\u001b[0m\u001b[1;33m.\u001b[0m\u001b[0msubplot\u001b[0m\u001b[1;33m(\u001b[0m\u001b[1;36m2\u001b[0m\u001b[1;33m,\u001b[0m \u001b[1;36m2\u001b[0m\u001b[1;33m,\u001b[0m \u001b[1;36m4\u001b[0m\u001b[1;33m)\u001b[0m\u001b[1;33m\u001b[0m\u001b[1;33m\u001b[0m\u001b[0m\n",
      "\u001b[1;31mNameError\u001b[0m: name 'lift' is not defined"
     ]
    }
   ],
   "source": [
    "# Calculate Cumulative Gains Curve\n",
    "cumulative_gains = np.cumsum(lift)\n",
    "\n",
    "# Plot Cumulative Gains Curve\n",
    "plt.subplot(2, 2, 4)\n",
    "plt.plot(thresholds[1:], cumulative_gains)\n",
    "plt.xlabel('Threshold')\n",
    "plt.ylabel('Cumulative Gains')\n",
    "plt.title('Cumulative Gains Curve')\n",
    "\n",
    "plt.tight_layout()\n",
    "plt.show()"
   ]
  },
  {
   "cell_type": "code",
   "execution_count": null,
   "id": "125a1684",
   "metadata": {},
   "outputs": [],
   "source": []
  },
  {
   "cell_type": "code",
   "execution_count": null,
   "id": "7fb41522",
   "metadata": {},
   "outputs": [],
   "source": []
  },
  {
   "cell_type": "code",
   "execution_count": null,
   "id": "fc6cb966",
   "metadata": {},
   "outputs": [],
   "source": []
  },
  {
   "cell_type": "code",
   "execution_count": null,
   "id": "ce85e2f3",
   "metadata": {},
   "outputs": [],
   "source": []
  }
 ],
 "metadata": {
  "kernelspec": {
   "display_name": "Python 3 (ipykernel)",
   "language": "python",
   "name": "python3"
  },
  "language_info": {
   "codemirror_mode": {
    "name": "ipython",
    "version": 3
   },
   "file_extension": ".py",
   "mimetype": "text/x-python",
   "name": "python",
   "nbconvert_exporter": "python",
   "pygments_lexer": "ipython3",
   "version": "3.9.13"
  }
 },
 "nbformat": 4,
 "nbformat_minor": 5
}
