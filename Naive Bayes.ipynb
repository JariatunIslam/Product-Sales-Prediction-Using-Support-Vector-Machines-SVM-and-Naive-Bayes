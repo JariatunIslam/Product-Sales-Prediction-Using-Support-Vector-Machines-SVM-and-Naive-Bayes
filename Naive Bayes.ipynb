{
 "cells": [
  {
   "cell_type": "code",
   "execution_count": 2,
   "id": "c3f9fd4a",
   "metadata": {},
   "outputs": [
    {
     "name": "stdout",
     "output_type": "stream",
     "text": [
      "Accuracy(Multinomial): 0.6666666666666666\n"
     ]
    },
    {
     "name": "stderr",
     "output_type": "stream",
     "text": [
      "C:\\Users\\shehr\\anaconda3\\lib\\site-packages\\sklearn\\utils\\validation.py:993: DataConversionWarning: A column-vector y was passed when a 1d array was expected. Please change the shape of y to (n_samples, ), for example using ravel().\n",
      "  y = column_or_1d(y, warn=True)\n"
     ]
    },
    {
     "data": {
      "text/html": [
       "<div>\n",
       "<style scoped>\n",
       "    .dataframe tbody tr th:only-of-type {\n",
       "        vertical-align: middle;\n",
       "    }\n",
       "\n",
       "    .dataframe tbody tr th {\n",
       "        vertical-align: top;\n",
       "    }\n",
       "\n",
       "    .dataframe thead th {\n",
       "        text-align: right;\n",
       "    }\n",
       "</style>\n",
       "<table border=\"1\" class=\"dataframe\">\n",
       "  <thead>\n",
       "    <tr style=\"text-align: right;\">\n",
       "      <th></th>\n",
       "      <th>y_test</th>\n",
       "      <th>y_pred</th>\n",
       "    </tr>\n",
       "  </thead>\n",
       "  <tbody>\n",
       "    <tr>\n",
       "      <th>0</th>\n",
       "      <td>0</td>\n",
       "      <td>0</td>\n",
       "    </tr>\n",
       "    <tr>\n",
       "      <th>1</th>\n",
       "      <td>0</td>\n",
       "      <td>1</td>\n",
       "    </tr>\n",
       "    <tr>\n",
       "      <th>2</th>\n",
       "      <td>0</td>\n",
       "      <td>0</td>\n",
       "    </tr>\n",
       "    <tr>\n",
       "      <th>3</th>\n",
       "      <td>0</td>\n",
       "      <td>0</td>\n",
       "    </tr>\n",
       "    <tr>\n",
       "      <th>4</th>\n",
       "      <td>0</td>\n",
       "      <td>0</td>\n",
       "    </tr>\n",
       "  </tbody>\n",
       "</table>\n",
       "</div>"
      ],
      "text/plain": [
       "   y_test  y_pred\n",
       "0       0       0\n",
       "1       0       1\n",
       "2       0       0\n",
       "3       0       0\n",
       "4       0       0"
      ]
     },
     "execution_count": 2,
     "metadata": {},
     "output_type": "execute_result"
    }
   ],
   "source": [
    "import pandas as pd\n",
    "import numpy as np\n",
    "from sklearn import metrics\n",
    "\n",
    "\n",
    "data = pd.read_csv('Sales.csv')\n",
    "data = pd.get_dummies(data, columns=['Gender'])\n",
    "data.head()\n",
    "data.describe()\n",
    "data.Purchased.value_counts(normalize=True)\n",
    "data.isnull().sum(axis=0)\n",
    "X = np.array(data[['User ID','Gender_Female','Gender_Male','Age','EstimatedSalary']])\n",
    "y = np.array(data[['Purchased']])\n",
    "from sklearn.model_selection import train_test_split\n",
    "X_train, X_test, y_train, y_test = train_test_split(X,y, test_size = 0.15, \n",
    "            random_state = 25, stratify = y)\n",
    "\n",
    "\n",
    "#method \n",
    "from sklearn.naive_bayes import MultinomialNB\n",
    "nb = MultinomialNB()\n",
    "nb.fit(X_train,y_train)\n",
    "y_pred = nb.predict(X_test)\n",
    "\n",
    "print('Accuracy(Multinomial):', metrics.accuracy_score(y_test, y_pred)) \n",
    "test_pred = pd.DataFrame(np.hstack((X_test, y_test.reshape(-1,1),y_pred.reshape(-1,1))),\n",
    "                        columns=['User ID','Gender_Female','Gender_Male','Age','EstimatedSalary',\n",
    "                             'y_test','y_pred'])\n",
    "test_pred.head()\n",
    "test_pred[['y_test','y_pred']].head()\n",
    "\n"
   ]
  },
  {
   "cell_type": "code",
   "execution_count": 4,
   "id": "ef35454d",
   "metadata": {},
   "outputs": [
    {
     "name": "stdout",
     "output_type": "stream",
     "text": [
      "accuracy Score= 66.66666666666666\n"
     ]
    },
    {
     "data": {
      "text/plain": [
       "array([[28, 11],\n",
       "       [ 9, 12]], dtype=int64)"
      ]
     },
     "execution_count": 4,
     "metadata": {},
     "output_type": "execute_result"
    }
   ],
   "source": [
    "n=test_pred.shape[0]\n",
    "n\n",
    "(sum(test_pred.y_test == test_pred.y_pred)/n)*100\n",
    "from sklearn.metrics import accuracy_score,confusion_matrix,f1_score, roc_curve,auc\n",
    "print(\"accuracy Score=\",accuracy_score(y_test,y_pred)*100)\n",
    "\n",
    "cm = confusion_matrix(y_test,y_pred)\n",
    "cm\n"
   ]
  },
  {
   "cell_type": "code",
   "execution_count": null,
   "id": "9e264ede",
   "metadata": {},
   "outputs": [],
   "source": [
    "TN = cm[0,0]\n",
    "print(\"True Negative:\",TN)\n",
    "FP=cm[0,1]\n",
    "print(\"False Possitive:\",FP)\n",
    "FN = cm[1,0]\n",
    "print(\"False Negative:\",FN)\n",
    "TP = cm[1,1]\n",
    "print(\"True Possitive:\",TP)\n",
    "#Again Accuracy\n",
    "(TN+TP)/n\n",
    "#TPR(True possitive rate) or Sensitivity\n",
    "recall = TP/(TP+FP)\n",
    "recall\n",
    "#TNR/Specificity\n",
    "specificity = TN/(TN+FP)\n",
    "specificity\n",
    "#FPR\n",
    "FPR = 1-specificity\n",
    "FPR\n",
    "precision = TP/(TP+FP)\n",
    "precision\n",
    "#F1_score is the hermonic mean between precision and reall\n",
    "F1_score = (2*precision*recall)/(precision+recall)\n",
    "F1_score\n",
    "#or\n",
    "f1_score(y_test,y_pred)\n",
    "\n",
    "## ROC(Receiver operating characteristic) Curve \n",
    "#[plot between false positive rate and true positive rate]\n",
    "probs = nb.predict_proba(X_test)\n",
    "probs\n",
    "prob_positive = probs[:, 1]\n",
    "fpr, tpr, threshold = roc_curve(y_test, prob_positive)\n",
    "\n",
    "# Reshape each array individually\n",
    "threshold_reshaped = threshold.reshape(-1, 1)\n",
    "fpr_reshaped = fpr.reshape(-1, 1)\n",
    "tpr_reshaped = tpr.reshape(-1, 1)\n",
    "\n",
    "# Horizontally stack the reshaped arrays\n",
    "stacked_data = np.hstack((threshold_reshaped, fpr_reshaped, tpr_reshaped))\n",
    "\n",
    "# Create a DataFrame with appropriate column names\n",
    "df = pd.DataFrame(stacked_data, columns=['threshold', 'fpr', 'tpr'])\n",
    "\n",
    "df.head()\n",
    "roc_auc = auc(fpr,tpr)\n",
    "roc_auc\n",
    "import matplotlib.pyplot as plt\n",
    "plt.title(\"receicer operating charecteristic\")\n",
    "plt.plot(fpr,tpr,'red',label = 'AUC-%0.2f'% roc_auc)\n",
    "plt.legend(loc = 'lower right')\n",
    "\n",
    "plt.plot([0,1],[0,1], color = 'darkblue',linestyle='--')\n",
    "plt.ylabel('True positive rate')\n",
    "plt.xlabel('False positive rate')\n",
    "plt.show()"
   ]
  },
  {
   "cell_type": "code",
   "execution_count": null,
   "id": "0c32c0a5",
   "metadata": {},
   "outputs": [],
   "source": []
  }
 ],
 "metadata": {
  "kernelspec": {
   "display_name": "Python 3 (ipykernel)",
   "language": "python",
   "name": "python3"
  },
  "language_info": {
   "codemirror_mode": {
    "name": "ipython",
    "version": 3
   },
   "file_extension": ".py",
   "mimetype": "text/x-python",
   "name": "python",
   "nbconvert_exporter": "python",
   "pygments_lexer": "ipython3",
   "version": "3.9.13"
  }
 },
 "nbformat": 4,
 "nbformat_minor": 5
}
